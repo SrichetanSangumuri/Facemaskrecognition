{
  "nbformat": 4,
  "nbformat_minor": 0,
  "metadata": {
    "colab": {
      "provenance": [],
      "authorship_tag": "ABX9TyO7Qq+pV2H5X0gULWk7Jms+",
      "include_colab_link": true
    },
    "kernelspec": {
      "name": "python3",
      "display_name": "Python 3"
    },
    "language_info": {
      "name": "python"
    }
  },
  "cells": [
    {
      "cell_type": "markdown",
      "metadata": {
        "id": "view-in-github",
        "colab_type": "text"
      },
      "source": [
        "<a href=\"https://colab.research.google.com/github/Prasanna7172/Face_Mask_Recognition_Project/blob/main/FaceMask.ipynb\" target=\"_parent\"><img src=\"https://colab.research.google.com/assets/colab-badge.svg\" alt=\"Open In Colab\"/></a>"
      ]
    },
    {
      "cell_type": "code",
      "execution_count": 17,
      "metadata": {
        "colab": {
          "base_uri": "https://localhost:8080/"
        },
        "id": "ZNlOO5-DXkrN",
        "outputId": "ddc01a5c-2164-423f-b88d-782233966b6e"
      },
      "outputs": [
        {
          "output_type": "stream",
          "name": "stderr",
          "text": [
            "WARNING:absl:Compiled the loaded model, but the compiled metrics have yet to be built. `model.compile_metrics` will be empty until you train or evaluate the model.\n",
            "WARNING:absl:Error in loading the saved optimizer state. As a result, your model is starting with a freshly initialized optimizer.\n"
          ]
        }
      ],
      "source": [
        "import cv2\n",
        "from tensorflow.keras.models import load_model\n",
        "from tensorflow.keras.utils import load_img, img_to_array\n",
        "import numpy as np\n",
        "import PIL\n",
        "\n",
        "model=load_model('saved_model-220321-141612 (1).h5')\n",
        "img_width , img_height = 150,150\n",
        "\n",
        "face_cascade = cv2.CascadeClassifier('haarcascade_frontalface_default.xml')\n",
        "\n",
        "#cap=cv2.VideoCapture('video1-220321-152928.mp4')\n",
        "cap=cv2.VideoCapture(0) #using webcam\n",
        "img_count_full=0\n",
        "\n",
        "font=cv2.FONT_HERSHEY_SIMPLEX\n",
        "ord=(1,1)\n",
        "class_label=''\n",
        "fontScale=1\n",
        "color=(255,0,0)\n",
        "thickness=2\n",
        "\n",
        "while True:\n",
        "    img_count_full +=1\n",
        "    response , color_img=cap.read()\n",
        "\n",
        "    if response == False:\n",
        "        break\n",
        "\n",
        "    scale = 50\n",
        "    width = int(color_img.shape[1]*scale/100)\n",
        "    height = int(color_img.shape[0]*scale/100)\n",
        "    dim = (width,height)\n",
        "\n",
        "    color_img=cv2.resize(color_img, dim, interpolation = cv2.INTER_AREA)\n",
        "\n",
        "    gray_img = cv2.cvtColor(color_img,cv2.COLOR_BGR2GRAY)\n",
        "\n",
        "    faces = face_cascade.detectMultiScale(gray_img,1.1,6)\n",
        "\n",
        "    img_count=0\n",
        "    for(x,y,w,h) in faces:\n",
        "        org = (x-10,y-10)\n",
        "        img_count += 1\n",
        "        color_face = color_img[y:y+h,x:x+w]\n",
        "        cv2.imwrite('input%d%dface.jpg'%(img_count_full,img_count),color_face)\n",
        "        img = load_img('input%d%dface.jpg'%(img_count_full,img_count),target_size=[img_height,img_width])\n",
        "        img = img_to_array(img)\n",
        "        img = np.expand_dims(img,axis=0)\n",
        "        prediction = model.predict(img)\n",
        "\n",
        "        if prediction == 0:\n",
        "            class_label = \"Mask\"\n",
        "            color = (0,255,0) #GREEN\n",
        "\n",
        "        else:\n",
        "            class_label = \"No Mask\"\n",
        "            color = (0,0,255) #RED\n",
        "\n",
        "        cv2.rectangle(color_img,(x,y),(x+w,y+h),(255,0,0),3)\n",
        "        cv2.putText(color_img,class_label,org,font,fontScale,color,thickness,cv2.LINE_AA)\n",
        "\n",
        "        cv2.imshow('Face mask detection',color_img)\n",
        "\n",
        "        key=cv2.waitKey(100)\n",
        "\n",
        "        if key == 113:\n",
        "            break\n",
        "\n",
        "    cap.release()\n",
        "    cv2.destroyAllWindows()\n"
      ]
    }
  ]
}